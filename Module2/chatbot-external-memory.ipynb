{
 "cells": [
  {
   "cell_type": "markdown",
   "id": "cf7ccb32",
   "metadata": {},
   "source": [
    "[![Open in Colab](https://colab.research.google.com/assets/colab-badge.svg)](https://colab.research.google.com/github/langchain-ai/langchain-academy/blob/main/module-2/chatbot-external-memory.ipynb) [![Open in LangChain Academy](https://cdn.prod.website-files.com/65b8cd72835ceeacd4449a53/66e9eba12c7b7688aa3dbb5e_LCA-badge-green.svg)](https://academy.langchain.com/courses/take/intro-to-langgraph/lessons/58239440-lesson-6-chatbot-w-summarizing-messages-and-external-memory)"
   ]
  },
  {
   "cell_type": "markdown",
   "id": "af6c7afe-1037-41ab-98e4-494692e47402",
   "metadata": {},
   "source": [
    "# Chatbot with message summarization & external DB memory\n",
    "\n",
    "## Goals\n",
    "\n",
    "But, what if we want our Chatbot to have memory that persists indefinitely?\n",
    "\n",
    "Now, we'll introduce some more advanced checkpointers that support external databases. \n",
    "\n",
    "Here, we'll show how to use [Sqlite as a checkpointer](https://langchain-ai.github.io/langgraph/concepts/low_level/#checkpointer), but other checkpointers, such as [Postgres](https://langchain-ai.github.io/langgraph/how-tos/persistence_postgres/) are available!"
   ]
  },
  {
   "cell_type": "code",
   "execution_count": 1,
   "id": "2e10c4d4",
   "metadata": {},
   "outputs": [],
   "source": [
    "import os, getpass\n",
    "\n",
    "def _set_env(var: str):\n",
    "    if not os.environ.get(var):\n",
    "        os.environ[var] = getpass.getpass(f\"{var}: \")\n",
    "\n",
    "_set_env(\"OPENAI_API_KEY\")"
   ]
  },
  {
   "cell_type": "markdown",
   "id": "b40d25c0-e9b5-4854-bf07-3cc3ff07122e",
   "metadata": {},
   "source": [
    "## Sqlite"
   ]
  },
  {
   "cell_type": "code",
   "execution_count": 2,
   "id": "fae15402-17ae-4e89-8ecf-4c89e08b22fe",
   "metadata": {},
   "outputs": [],
   "source": [
    "import sqlite3\n",
    "# In memory\n",
    "conn = sqlite3.connect(\":memory:\", check_same_thread = False)"
   ]
  },
  {
   "cell_type": "code",
   "execution_count": 3,
   "id": "58339167-920c-4994-a0a7-0a9c5d4f7cf7",
   "metadata": {},
   "outputs": [],
   "source": [
    "db_path = \"state_db/example.db\"\n",
    "conn = sqlite3.connect(db_path, check_same_thread=False)"
   ]
  },
  {
   "cell_type": "code",
   "execution_count": 4,
   "id": "3c7736b6-a750-48f8-a838-8e7616b12250",
   "metadata": {},
   "outputs": [],
   "source": [
    "# Here is our checkpointer \n",
    "from langgraph.checkpoint.sqlite import SqliteSaver\n",
    "memory = SqliteSaver(conn)"
   ]
  },
  {
   "cell_type": "markdown",
   "id": "9d8cb629-213f-4b87-965e-19b812c42da1",
   "metadata": {},
   "source": [
    "Let's re-define our chatbot."
   ]
  },
  {
   "cell_type": "code",
   "execution_count": 5,
   "id": "dc414e29-2078-41a0-887c-af1a6a3d72c0",
   "metadata": {},
   "outputs": [],
   "source": [
    "from langchain_openai import ChatOpenAI\n",
    "from langchain_core.messages import SystemMessage, HumanMessage, RemoveMessage\n",
    "\n",
    "from langgraph.graph import END\n",
    "from langgraph.graph import MessagesState\n",
    "\n",
    "model = ChatOpenAI(model=\"gpt-4o\",temperature=0)\n",
    "\n",
    "class State(MessagesState):\n",
    "    summary: str\n",
    "\n",
    "# Define the logic to call the model\n",
    "def call_model(state: State):\n",
    "    \n",
    "    # Get summary if it exists\n",
    "    summary = state.get(\"summary\", \"\")\n",
    "\n",
    "    # If there is summary, then we add it\n",
    "    if summary:\n",
    "        \n",
    "        # Add summary to system message\n",
    "        system_message = f\"Summary of conversation earlier: {summary}\"\n",
    "\n",
    "        # Append summary to any newer messages\n",
    "        messages = [SystemMessage(content=system_message)] + state[\"messages\"]\n",
    "    \n",
    "    else:\n",
    "        messages = state[\"messages\"]\n",
    "    \n",
    "    response = model.invoke(messages)\n",
    "    return {\"messages\": response}\n",
    "\n",
    "def summarize_conversation(state: State):\n",
    "    \n",
    "    # First, we get any existing summary\n",
    "    summary = state.get(\"summary\", \"\")\n",
    "\n",
    "    # Create our summarization prompt \n",
    "    if summary:\n",
    "        \n",
    "        # A summary already exists\n",
    "        summary_message = (\n",
    "            f\"This is summary of the conversation to date: {summary}\\n\\n\"\n",
    "            \"Extend the summary by taking into account the new messages above:\"\n",
    "        )\n",
    "        \n",
    "    else:\n",
    "        summary_message = \"Create a summary of the conversation above:\"\n",
    "\n",
    "    # Add prompt to our history\n",
    "    messages = state[\"messages\"] + [HumanMessage(content=summary_message)]\n",
    "    response = model.invoke(messages)\n",
    "    \n",
    "    # Delete all but the 2 most recent messages\n",
    "    delete_messages = [RemoveMessage(id=m.id) for m in state[\"messages\"][:-2]]\n",
    "    return {\"summary\": response.content, \"messages\": delete_messages}\n",
    "\n",
    "# Determine whether to end or summarize the conversation\n",
    "def should_continue(state: State):\n",
    "    \n",
    "    \"\"\"Return the next node to execute.\"\"\"\n",
    "    \n",
    "    messages = state[\"messages\"]\n",
    "    \n",
    "    # If there are more than eight messages, then we summarize the conversation\n",
    "    if len(messages) > 8:\n",
    "        return \"summarize_conversation\"\n",
    "    \n",
    "    # Otherwise we can just end\n",
    "    return END"
   ]
  },
  {
   "cell_type": "markdown",
   "id": "41c13c0b-a383-4f73-9cc1-63f0eed8f190",
   "metadata": {},
   "source": [
    "Now, we just re-compile with our sqlite checkpointer."
   ]
  },
  {
   "cell_type": "code",
   "execution_count": 6,
   "id": "e867fd95-91eb-4ce1-82fc-bb72d611a96d",
   "metadata": {},
   "outputs": [
    {
     "data": {
      "image/png": "[encoded data removed]",
      "text/plain": [
       "<IPython.core.display.Image object>"
      ]
     },
     "metadata": {},
     "output_type": "display_data"
    }
   ],
   "source": [
    "from IPython.display import Image, display\n",
    "from langgraph.graph import StateGraph, START\n",
    "\n",
    "# Define a new graph\n",
    "workflow = StateGraph(State)\n",
    "workflow.add_node(\"conversation\", call_model)\n",
    "workflow.add_node(summarize_conversation)\n",
    "\n",
    "# Set the entrypoint as conversation\n",
    "workflow.add_edge(START, \"conversation\")\n",
    "workflow.add_conditional_edges(\"conversation\", should_continue)\n",
    "workflow.add_edge(\"summarize_conversation\", END)\n",
    "\n",
    "# Compile\n",
    "graph = workflow.compile(checkpointer=memory)\n",
    "display(Image(graph.get_graph().draw_mermaid_png()))"
   ]
  },
  {
   "cell_type": "markdown",
   "id": "8769db99-3938-45e6-a594-56beb18d6c45",
   "metadata": {},
   "source": [
    "Now, we can invoke the graph several times. "
   ]
  },
  {
   "cell_type": "code",
   "execution_count": null,
   "id": "0f4094a0-d240-4be8-903a-7d9f605bdc5c",
   "metadata": {},
   "outputs": [
    {
     "name": "stdout",
     "output_type": "stream",
     "text": [
      "==================================\u001b[1m Ai Message \u001b[0m==================================\n",
      "\n",
      "Got it, Walter White! If you'd like to continue talking about the 49ers or if there's anything else on your mind, feel free to let me know.\n",
      "==================================\u001b[1m Ai Message \u001b[0m==================================\n",
      "\n",
      "You are a character from the television show \"Breaking Bad.\" Walter White is a high school chemistry teacher turned methamphetamine manufacturer, portrayed by Bryan Cranston. It's a critically acclaimed series known for its intense storytelling and complex characters. Are you a fan of the show, or is there something specific you'd like to discuss about it?\n",
      "==================================\u001b[1m Ai Message \u001b[0m==================================\n",
      "\n",
      "Yes, that's correct! In \"Breaking Bad,\" Walter White is a retired chemistry professor who turns to synthesizing methamphetamine after being diagnosed with terminal lung cancer. He partners with a former student, Jesse Pinkman, to secure his family's financial future. The show explores his transformation from a mild-mannered teacher to a notorious drug kingpin. It's a fascinating character arc that has captivated many viewers. If you have any specific questions or topics about the show, feel free to ask!\n"
     ]
    }
   ],
   "source": [
    "# Create a thread\n",
    "config = {\"configurable\": {\"thread_id\": \"1\"}}\n",
    "\n",
    "# Start conversation\n",
    "input_message = HumanMessage(content=\"my name is walter white\")\n",
    "output = graph.invoke({\"messages\": [input_message]}, config) \n",
    "for m in output['messages'][-1:]:\n",
    "    m.pretty_print()\n",
    "\n",
    "input_message = HumanMessage(content=\"what show am i a character from?\")\n",
    "output = graph.invoke({\"messages\": [input_message]}, config) \n",
    "for m in output['messages'][-1:]:\n",
    "    m.pretty_print()\n",
    "\n",
    "input_message = HumanMessage(content=\"i am a retired chemistry professor who synthesizes drugs in this show\")\n",
    "output = graph.invoke({\"messages\": [input_message]}, config) \n",
    "for m in output['messages'][-1:]:\n",
    "    m.pretty_print()\n",
    "\n",
    "#note: i ran the previous default questions beforehand, which got appended to the database, hence they're used as context in this output"
   ]
  },
  {
   "cell_type": "markdown",
   "id": "599a27fe",
   "metadata": {},
   "source": [
    "### note: in the above, i ran the previous default questions beforehand and restarted my notebook, which got appended to the database, hence they're used as context in this output as expected"
   ]
  },
  {
   "cell_type": "code",
   "execution_count": 8,
   "id": "d2ab158a-5a82-417a-8841-730a4cc18ea7",
   "metadata": {},
   "outputs": [
    {
     "data": {
      "text/plain": [
       "StateSnapshot(values={'messages': [HumanMessage(content='what show am i a character from?', additional_kwargs={}, response_metadata={}, id='5d9e79d7-3904-492d-99c8-45b3e12e10aa'), AIMessage(content='You are a character from the television show \"Breaking Bad.\" Walter White is a high school chemistry teacher turned methamphetamine manufacturer, portrayed by Bryan Cranston. It\\'s a critically acclaimed series known for its intense storytelling and complex characters. Are you a fan of the show, or is there something specific you\\'d like to discuss about it?', additional_kwargs={'refusal': None}, response_metadata={'token_usage': {'completion_tokens': 65, 'prompt_tokens': 388, 'total_tokens': 453, 'completion_tokens_details': {'accepted_prediction_tokens': 0, 'audio_tokens': 0, 'reasoning_tokens': 0, 'rejected_prediction_tokens': 0}, 'prompt_tokens_details': {'audio_tokens': 0, 'cached_tokens': 0}}, 'model_name': 'gpt-4o-2024-08-06', 'system_fingerprint': 'fp_cbf1785567', 'id': 'chatcmpl-CTsjmwJYCSaZtKV2UP8D7L3UKee2m', 'service_tier': 'default', 'finish_reason': 'stop', 'logprobs': None}, id='run--02d1f90e-30b6-44a7-9424-f175550e5b0b-0', usage_metadata={'input_tokens': 388, 'output_tokens': 65, 'total_tokens': 453, 'input_token_details': {'audio': 0, 'cache_read': 0}, 'output_token_details': {'audio': 0, 'reasoning': 0}}), HumanMessage(content='i am a retired chemistry professor who synthesizes drugs in this show', additional_kwargs={}, response_metadata={}, id='4c3e4b66-c146-4015-ba14-6904d2638cc9'), AIMessage(content='Yes, that\\'s correct! In \"Breaking Bad,\" Walter White is a retired chemistry professor who turns to synthesizing methamphetamine after being diagnosed with terminal lung cancer. He partners with a former student, Jesse Pinkman, to secure his family\\'s financial future. The show explores his transformation from a mild-mannered teacher to a notorious drug kingpin. It\\'s a fascinating character arc that has captivated many viewers. If you have any specific questions or topics about the show, feel free to ask!', additional_kwargs={'refusal': None}, response_metadata={'token_usage': {'completion_tokens': 97, 'prompt_tokens': 220, 'total_tokens': 317, 'completion_tokens_details': {'accepted_prediction_tokens': 0, 'audio_tokens': 0, 'reasoning_tokens': 0, 'rejected_prediction_tokens': 0}, 'prompt_tokens_details': {'audio_tokens': 0, 'cached_tokens': 0}}, 'model_name': 'gpt-4o-2024-08-06', 'system_fingerprint': 'fp_cbf1785567', 'id': 'chatcmpl-CTsjq2wZsVB14GKa2dLdVp19u0GIo', 'service_tier': 'default', 'finish_reason': 'stop', 'logprobs': None}, id='run--ab2bbe48-e0e5-4392-a4b3-aa0feb8c7f46-0', usage_metadata={'input_tokens': 220, 'output_tokens': 97, 'total_tokens': 317, 'input_token_details': {'audio': 0, 'cache_read': 0}, 'output_token_details': {'audio': 0, 'reasoning': 0}})], 'summary': 'Lance initially introduced himself and expressed his fondness for the San Francisco 49ers. The AI assistant acknowledged his interest and offered to discuss various aspects of the team. Later, Lance reintroduced himself as Walter White, prompting the AI to recognize this name as a character from the television show \"Breaking Bad.\" The conversation included a brief mention of the show\\'s premise and the character\\'s role. Throughout the interaction, the AI remained responsive to the changes in identity and interests, ready to engage in topics related to both the 49ers and \"Breaking Bad.\"'}, next=(), config={'configurable': {'thread_id': '1', 'checkpoint_ns': '', 'checkpoint_id': '1f0b02fc-3597-62fe-801b-138e8a70f7f7'}}, metadata={'source': 'loop', 'step': 27, 'parents': {}}, created_at='2025-10-23T16:46:03.585584+00:00', parent_config={'configurable': {'thread_id': '1', 'checkpoint_ns': '', 'checkpoint_id': '1f0b02fc-280d-6139-801a-af3b00d9eb7c'}}, tasks=(), interrupts=())"
      ]
     },
     "execution_count": 8,
     "metadata": {},
     "output_type": "execute_result"
    }
   ],
   "source": [
    "config = {\"configurable\": {\"thread_id\": \"1\"}}\n",
    "graph_state = graph.get_state(config)\n",
    "graph_state"
   ]
  },
  {
   "cell_type": "code",
   "execution_count": 13,
   "id": "6273dcaa",
   "metadata": {},
   "outputs": [
    {
     "name": "stdout",
     "output_type": "stream",
     "text": [
      "==================================\u001b[1m Ai Message \u001b[0m==================================\n",
      "\n",
      "Nice to meet you, Walter White! Whether you're channeling the iconic character from \"Breaking Bad\" or just having some fun, feel free to let me know if there's anything specific you'd like to discuss or explore.\n",
      "==================================\u001b[1m Ai Message \u001b[0m==================================\n",
      "\n",
      "You are a character from the television show \"Breaking Bad.\" Walter White is a high school chemistry teacher who turns to manufacturing and selling methamphetamine after being diagnosed with terminal lung cancer, in order to secure his family's financial future.\n",
      "==================================\u001b[1m Ai Message \u001b[0m==================================\n",
      "\n",
      "That's right! In \"Breaking Bad,\" Walter White starts as a high school chemistry teacher, but as the series progresses, he becomes deeply involved in the drug trade, using his chemistry expertise to synthesize high-quality methamphetamine. His transformation from a mild-mannered teacher to a drug kingpin is a central theme of the show.\n"
     ]
    }
   ],
   "source": [
    "# Create a thread\n",
    "config = {\"configurable\": {\"thread_id\": \"1\"}}\n",
    "\n",
    "# Start conversation\n",
    "input_message = HumanMessage(content=\"my name is walter white\")\n",
    "output = graph.invoke({\"messages\": [input_message]}, config) \n",
    "for m in output['messages'][-1:]:\n",
    "    m.pretty_print()\n",
    "\n",
    "input_message = HumanMessage(content=\"what show am i a character from?\")\n",
    "output = graph.invoke({\"messages\": [input_message]}, config) \n",
    "for m in output['messages'][-1:]:\n",
    "    m.pretty_print()\n",
    "\n",
    "input_message = HumanMessage(content=\"i am a retired chemistry professor who synthesizes drugs in this show\")\n",
    "output = graph.invoke({\"messages\": [input_message]}, config) \n",
    "for m in output['messages'][-1:]:\n",
    "    m.pretty_print()\n",
    "\n"
   ]
  },
  {
   "cell_type": "markdown",
   "id": "1e21152d-ed9c-408d-b7d5-f634c9ce81e2",
   "metadata": {},
   "source": [
    "### Persisting state\n",
    "\n",
    "Using database like Sqlite means state is persisted! \n",
    "\n",
    "For example, we can re-start the notebook kernel and see that we can still load from Sqlite DB on disk.\n"
   ]
  },
  {
   "cell_type": "code",
   "execution_count": 14,
   "id": "b9a44dc5-be04-45fa-a6fc-27b0f8ee4678",
   "metadata": {},
   "outputs": [
    {
     "data": {
      "text/plain": [
       "StateSnapshot(values={'messages': [HumanMessage(content='my name is walter white', additional_kwargs={}, response_metadata={}, id='49bcbb82-f49e-4ca0-a542-607120908c75'), AIMessage(content='Nice to meet you, Walter White! Whether you\\'re channeling the iconic character from \"Breaking Bad\" or just having some fun, feel free to let me know if there\\'s anything specific you\\'d like to discuss or explore.', additional_kwargs={'refusal': None}, response_metadata={'token_usage': {'completion_tokens': 43, 'prompt_tokens': 560, 'total_tokens': 603, 'completion_tokens_details': {'accepted_prediction_tokens': 0, 'audio_tokens': 0, 'reasoning_tokens': 0, 'rejected_prediction_tokens': 0}, 'prompt_tokens_details': {'audio_tokens': 0, 'cached_tokens': 0}}, 'model_name': 'gpt-4o-2024-08-06', 'system_fingerprint': 'fp_cbf1785567', 'id': 'chatcmpl-CTspDsvdmvHVUnM6qqKFyhRbDNeB9', 'service_tier': 'default', 'finish_reason': 'stop', 'logprobs': None}, id='run--bc2fdd2f-cdf1-46d6-a463-3c47fa0002b8-0', usage_metadata={'input_tokens': 560, 'output_tokens': 43, 'total_tokens': 603, 'input_token_details': {'audio': 0, 'cache_read': 0}, 'output_token_details': {'audio': 0, 'reasoning': 0}}), HumanMessage(content='what show am i a character from?', additional_kwargs={}, response_metadata={}, id='d03ff44d-37fd-4180-a691-62ee7b20d78f'), AIMessage(content='You are a character from the television show \"Breaking Bad.\" Walter White is a high school chemistry teacher who turns to manufacturing and selling methamphetamine after being diagnosed with terminal lung cancer, in order to secure his family\\'s financial future.', additional_kwargs={'refusal': None}, response_metadata={'token_usage': {'completion_tokens': 45, 'prompt_tokens': 246, 'total_tokens': 291, 'completion_tokens_details': {'accepted_prediction_tokens': 0, 'audio_tokens': 0, 'reasoning_tokens': 0, 'rejected_prediction_tokens': 0}, 'prompt_tokens_details': {'audio_tokens': 0, 'cached_tokens': 0}}, 'model_name': 'gpt-4o-2024-08-06', 'system_fingerprint': 'fp_a788c5aef0', 'id': 'chatcmpl-CTspHLEelzWt9NqlAjEgOs5Q0eVWW', 'service_tier': 'default', 'finish_reason': 'stop', 'logprobs': None}, id='run--417d404d-b1bb-4201-a77f-8359c9565931-0', usage_metadata={'input_tokens': 246, 'output_tokens': 45, 'total_tokens': 291, 'input_token_details': {'audio': 0, 'cache_read': 0}, 'output_token_details': {'audio': 0, 'reasoning': 0}}), HumanMessage(content='i am a retired chemistry professor who synthesizes drugs in this show', additional_kwargs={}, response_metadata={}, id='d0f8187a-86da-471e-944b-d65594e219df'), AIMessage(content='That\\'s right! In \"Breaking Bad,\" Walter White starts as a high school chemistry teacher, but as the series progresses, he becomes deeply involved in the drug trade, using his chemistry expertise to synthesize high-quality methamphetamine. His transformation from a mild-mannered teacher to a drug kingpin is a central theme of the show.', additional_kwargs={'refusal': None}, response_metadata={'token_usage': {'completion_tokens': 67, 'prompt_tokens': 312, 'total_tokens': 379, 'completion_tokens_details': {'accepted_prediction_tokens': 0, 'audio_tokens': 0, 'reasoning_tokens': 0, 'rejected_prediction_tokens': 0}, 'prompt_tokens_details': {'audio_tokens': 0, 'cached_tokens': 0}}, 'model_name': 'gpt-4o-2024-08-06', 'system_fingerprint': 'fp_a788c5aef0', 'id': 'chatcmpl-CTspIjY0PZhOp2MVQulGDjiF8RI2q', 'service_tier': 'default', 'finish_reason': 'stop', 'logprobs': None}, id='run--6aefeff3-f555-4b05-bc24-1f6234d50d1e-0', usage_metadata={'input_tokens': 312, 'output_tokens': 67, 'total_tokens': 379, 'input_token_details': {'audio': 0, 'cache_read': 0}, 'output_token_details': {'audio': 0, 'reasoning': 0}})], 'summary': 'Lance initially introduced himself and expressed his fondness for the San Francisco 49ers. The AI assistant acknowledged his interest and offered to discuss various aspects of the team. Later, Lance reintroduced himself as Walter White, prompting the AI to recognize this name as a character from the television show \"Breaking Bad.\" The conversation included a brief mention of the show\\'s premise and the character\\'s role as a high school chemistry teacher turned methamphetamine manufacturer. The AI explained that Walter White resorted to dealing drugs to secure his family\\'s financial future after being diagnosed with terminal lung cancer. The discussion also touched on Jesse Pinkman, Walter\\'s former student and partner in the meth business. Throughout the interaction, the AI remained responsive to the changes in identity and interests, ready to engage in topics related to both the 49ers and \"Breaking Bad.\"'}, next=(), config={'configurable': {'thread_id': '1', 'checkpoint_ns': '', 'checkpoint_id': '1f0b0308-cee0-65dd-802b-934e21e6c619'}}, metadata={'source': 'loop', 'step': 43, 'parents': {}}, created_at='2025-10-23T16:51:41.781316+00:00', parent_config={'configurable': {'thread_id': '1', 'checkpoint_ns': '', 'checkpoint_id': '1f0b0308-bff7-6128-802a-588c2c70afc3'}}, tasks=(), interrupts=())"
      ]
     },
     "execution_count": 14,
     "metadata": {},
     "output_type": "execute_result"
    }
   ],
   "source": [
    "# Create a thread\n",
    "config = {\"configurable\": {\"thread_id\": \"1\"}}\n",
    "graph_state = graph.get_state(config)\n",
    "graph_state"
   ]
  },
  {
   "cell_type": "code",
   "execution_count": 15,
   "id": "14ac740e",
   "metadata": {},
   "outputs": [
    {
     "name": "stdout",
     "output_type": "stream",
     "text": [
      "==================================\u001b[1m Ai Message \u001b[0m==================================\n",
      "\n",
      "The sidekick character who cooks meth with Walter White in \"Breaking Bad\" is Jesse Pinkman. Jesse is a former student of Walter's and becomes his partner in the meth business. Throughout the series, their relationship is complex and evolves as they face various challenges and moral dilemmas.\n"
     ]
    }
   ],
   "source": [
    "input_message = HumanMessage(content=\"who is the sidekick character who cooks meth with him in the show?\")\n",
    "output = graph.invoke({\"messages\": [input_message]}, config) \n",
    "for m in output['messages'][-1:]:\n",
    "    m.pretty_print()"
   ]
  },
  {
   "cell_type": "code",
   "execution_count": 16,
   "id": "f64eeb87",
   "metadata": {},
   "outputs": [
    {
     "name": "stdout",
     "output_type": "stream",
     "text": [
      "==================================\u001b[1m Ai Message \u001b[0m==================================\n",
      "\n",
      "Walter White resorted to dealing drugs primarily because he was diagnosed with terminal lung cancer and wanted to ensure his family's financial security after his death. Faced with the prospect of leaving his family in financial ruin, he decided to use his chemistry skills to produce and sell methamphetamine, believing it was a quick way to make a substantial amount of money. His initial motivation was to provide for his wife, Skyler, and their children, but as the series progresses, his motivations become more complex.\n"
     ]
    }
   ],
   "source": [
    "input_message = HumanMessage(content=\"why did he resort to dealing drugs in the first place\")\n",
    "output = graph.invoke({\"messages\": [input_message]}, config) \n",
    "for m in output['messages'][-1:]:\n",
    "    m.pretty_print()"
   ]
  },
  {
   "cell_type": "code",
   "execution_count": 17,
   "id": "74e45d0a",
   "metadata": {},
   "outputs": [
    {
     "data": {
      "text/plain": [
       "StateSnapshot(values={'messages': [HumanMessage(content='why did he resort to dealing drugs in the first place', additional_kwargs={}, response_metadata={}, id='63a263a5-01b4-4467-bf1f-b23ef803a2ac'), AIMessage(content=\"Walter White resorted to dealing drugs primarily because he was diagnosed with terminal lung cancer and wanted to ensure his family's financial security after his death. Faced with the prospect of leaving his family in financial ruin, he decided to use his chemistry skills to produce and sell methamphetamine, believing it was a quick way to make a substantial amount of money. His initial motivation was to provide for his wife, Skyler, and their children, but as the series progresses, his motivations become more complex.\", additional_kwargs={'refusal': None}, response_metadata={'token_usage': {'completion_tokens': 98, 'prompt_tokens': 478, 'total_tokens': 576, 'completion_tokens_details': {'accepted_prediction_tokens': 0, 'audio_tokens': 0, 'reasoning_tokens': 0, 'rejected_prediction_tokens': 0}, 'prompt_tokens_details': {'audio_tokens': 0, 'cached_tokens': 0}}, 'model_name': 'gpt-4o-2024-08-06', 'system_fingerprint': 'fp_a788c5aef0', 'id': 'chatcmpl-CTspS2focWPMyE4V7r8NfNEAWMzPD', 'service_tier': 'default', 'finish_reason': 'stop', 'logprobs': None}, id='run--63a61821-4fe5-42ed-841c-f4bca2cc5d9b-0', usage_metadata={'input_tokens': 478, 'output_tokens': 98, 'total_tokens': 576, 'input_token_details': {'audio': 0, 'cache_read': 0}, 'output_token_details': {'audio': 0, 'reasoning': 0}})], 'summary': 'Initially, Lance introduced himself and expressed his fondness for the San Francisco 49ers. The AI assistant acknowledged his interest and offered to discuss various aspects of the team. Later, Lance reintroduced himself as Walter White, prompting the AI to recognize this name as a character from the television show \"Breaking Bad.\" The conversation included a brief mention of the show\\'s premise and the character\\'s role as a high school chemistry teacher turned methamphetamine manufacturer. The AI explained that Walter White resorted to dealing drugs to secure his family\\'s financial future after being diagnosed with terminal lung cancer. The discussion also touched on Jesse Pinkman, Walter\\'s former student and partner in the meth business. \\n\\nIn the subsequent messages, the AI elaborated on Walter White\\'s transformation from a teacher to a drug kingpin and the complexity of his relationship with Jesse Pinkman. The AI also clarified that Walter\\'s initial motivation for entering the drug trade was to provide for his family, but his motivations evolved over time. Throughout the interaction, the AI remained responsive to the changes in identity and interests, ready to engage in topics related to both the 49ers and \"Breaking Bad.\"'}, next=(), config={'configurable': {'thread_id': '1', 'checkpoint_ns': '', 'checkpoint_id': '1f0b0309-4c3a-6ecf-8032-018511af44ff'}}, metadata={'source': 'loop', 'step': 50, 'parents': {}}, created_at='2025-10-23T16:51:54.925609+00:00', parent_config={'configurable': {'thread_id': '1', 'checkpoint_ns': '', 'checkpoint_id': '1f0b0309-3118-6c79-8031-3d1186206e70'}}, tasks=(), interrupts=())"
      ]
     },
     "execution_count": 17,
     "metadata": {},
     "output_type": "execute_result"
    }
   ],
   "source": [
    "# Create a thread\n",
    "config = {\"configurable\": {\"thread_id\": \"1\"}}\n",
    "graph_state = graph.get_state(config)\n",
    "graph_state"
   ]
  },
  {
   "cell_type": "markdown",
   "id": "c4916d8b",
   "metadata": {},
   "source": []
  }
 ],
 "metadata": {
  "kernelspec": {
   "display_name": ".venv",
   "language": "python",
   "name": "python3"
  },
  "language_info": {
   "codemirror_mode": {
    "name": "ipython",
    "version": 3
   },
   "file_extension": ".py",
   "mimetype": "text/x-python",
   "name": "python",
   "nbconvert_exporter": "python",
   "pygments_lexer": "ipython3",
   "version": "3.13.7"
  }
 },
 "nbformat": 4,
 "nbformat_minor": 5
}
