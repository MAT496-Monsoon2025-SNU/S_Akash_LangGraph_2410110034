{
 "cells": [
  {
   "cell_type": "markdown",
   "id": "8d5f3703",
   "metadata": {},
   "source": [
    "[![Open in Colab](https://colab.research.google.com/assets/colab-badge.svg)](https://colab.research.google.com/github/langchain-ai/langchain-academy/blob/main/module-1/simple-graph.ipynb) [![Open in LangChain Academy](https://cdn.prod.website-files.com/65b8cd72835ceeacd4449a53/66e9eba12c7b7688aa3dbb5e_LCA-badge-green.svg)](https://academy.langchain.com/courses/take/intro-to-langgraph/lessons/58238187-lesson-2-simple-graph)"
   ]
  },
  {
   "cell_type": "code",
   "execution_count": 24,
   "id": "ff151ef1-fa30-482a-94da-8f49964afbc3",
   "metadata": {},
   "outputs": [],
   "source": [
    "%%capture --no-stderr\n",
    "%pip install --quiet -U langgraph"
   ]
  },
  {
   "cell_type": "code",
   "execution_count": 25,
   "id": "6a90709b-ddfa-4671-8acc-c59969a29991",
   "metadata": {},
   "outputs": [],
   "source": [
    "from typing_extensions import TypedDict\n",
    "\n",
    "class State(TypedDict):\n",
    "    graph_state: str"
   ]
  },
  {
   "cell_type": "code",
   "execution_count": null,
   "id": "e8aabcb7-494c-4d35-be08-f81c76d75a6b",
   "metadata": {},
   "outputs": [],
   "source": [
    "def node_1(state):\n",
    "    print(\"---Node 1---\")\n",
    "    return {\"graph_state\": \"Your message was: \" + state['graph_state']} #change: prefixed string to original graph state\n",
    "\n",
    "def exclamation_node(state):\n",
    "    print(\"--Exclamation Node---\")\n",
    "    return {\"graph_state\": state['graph_state'] + \" You sound very excited!\"}\n",
    "\n",
    "def question_node(state):\n",
    "    print(\"---Question Node---\")\n",
    "    return {\"graph_state\": state['graph_state'] + \" Good question.\"}\n",
    "\n",
    "def thought_node(state):\n",
    "    print(\"---Thought Node---\")\n",
    "    return {\"graph_state\": state['graph_state'] + \" Thats an interesting thought.\"}\n",
    "\n",
    "def shout_node(state):\n",
    "    print(\"---Shout Node---\")\n",
    "    return {\"graph_state\": state['graph_state'] + \" You seem angry. What's wrong?\"}\n",
    "\n",
    "def statement_node(state):\n",
    "    print(\"--- Statement Node---\")\n",
    "    return {\"graph_state\": state['graph_state'] + \" This is a standard statement.\"}"
   ]
  },
  {
   "cell_type": "code",
   "execution_count": 27,
   "id": "7e53543a-902a-4d41-ad3d-25eee260e819",
   "metadata": {},
   "outputs": [],
   "source": [
    "import random\n",
    "from typing import Literal\n",
    "\n",
    "def analyze_text_mood(state) -> Literal[\"exclamation_node\", \"question_node\", \"thought_node\", \"shout_node\", \"statement_node\"]:\n",
    "    user_input = state['graph_state'] \n",
    "    uppercase_check = user_input[18:]\n",
    "    if user_input.endswith(\"?\"):\n",
    "        return \"question_node\"\n",
    "    elif user_input.endswith(\"!\"):\n",
    "        return \"exclamation_node\"\n",
    "    elif user_input.endswith(\"...\"):\n",
    "        return \"thought_node\"\n",
    "    elif uppercase_check.isupper():\n",
    "        return \"shout_node\"\n",
    "    else:\n",
    "        return \"statement_node\""
   ]
  },
  {
   "cell_type": "code",
   "execution_count": 28,
   "id": "7deb0359-55c1-4545-b52e-8252994befbb",
   "metadata": {},
   "outputs": [
    {
     "data": {
      "image/png": "[encoded data removed]",
      "text/plain": [
       "<IPython.core.display.Image object>"
      ]
     },
     "metadata": {},
     "output_type": "display_data"
    }
   ],
   "source": [
    "from IPython.display import Image, display\n",
    "from langgraph.graph import StateGraph, START, END\n",
    "\n",
    "# Build graph\n",
    "builder = StateGraph(State)\n",
    "builder.add_node(\"node_1\", node_1)\n",
    "builder.add_node(\"exclamation_node\", exclamation_node)\n",
    "builder.add_node(\"question_node\", question_node)\n",
    "builder.add_node(\"shout_node\", shout_node)\n",
    "builder.add_node(\"thought_node\", thought_node)\n",
    "builder.add_node(\"statement_node\", statement_node)\n",
    "\n",
    "# Logic\n",
    "builder.add_edge(START, \"node_1\")\n",
    "builder.add_conditional_edges(\"node_1\", analyze_text_mood)\n",
    "builder.add_edge(\"exclamation_node\", END)\n",
    "builder.add_edge(\"question_node\", END)\n",
    "builder.add_edge(\"shout_node\", END)\n",
    "builder.add_edge(\"thought_node\", END)\n",
    "builder.add_edge(\"statement_node\", END)\n",
    "# Add\n",
    "graph = builder.compile()\n",
    "\n",
    "# View\n",
    "display(Image(graph.get_graph().draw_mermaid_png()))"
   ]
  },
  {
   "cell_type": "code",
   "execution_count": 30,
   "id": "e895f17a-e835-4e8a-8e1b-63fe6d27cc52",
   "metadata": {},
   "outputs": [
    {
     "name": "stdout",
     "output_type": "stream",
     "text": [
      "---Node 1---\n",
      "---Shout Node---\n"
     ]
    },
    {
     "data": {
      "text/plain": [
       "{'graph_state': \"Your message was: I AM FUMING. You seem angry. What's wrong?\"}"
      ]
     },
     "execution_count": 30,
     "metadata": {},
     "output_type": "execute_result"
    }
   ],
   "source": [
    "graph.invoke({\"graph_state\" : \"I AM FUMING.\"})"
   ]
  },
  {
   "cell_type": "code",
   "execution_count": 31,
   "id": "db16ab8d-b817-4f3a-befc-a02b579c4fca",
   "metadata": {},
   "outputs": [
    {
     "name": "stdout",
     "output_type": "stream",
     "text": [
      "---Node 1---\n",
      "--- Statement Node---\n"
     ]
    },
    {
     "data": {
      "text/plain": [
       "{'graph_state': 'Your message was: I am fine. This is a standard statement.'}"
      ]
     },
     "execution_count": 31,
     "metadata": {},
     "output_type": "execute_result"
    }
   ],
   "source": [
    "graph.invoke({\"graph_state\" : \"I am fine.\"})"
   ]
  },
  {
   "cell_type": "code",
   "execution_count": 32,
   "id": "647d47d0",
   "metadata": {},
   "outputs": [
    {
     "name": "stdout",
     "output_type": "stream",
     "text": [
      "---Node 1---\n",
      "--Exclamation Node---\n"
     ]
    },
    {
     "data": {
      "text/plain": [
       "{'graph_state': 'Your message was: Yay! You sound very excited!'}"
      ]
     },
     "execution_count": 32,
     "metadata": {},
     "output_type": "execute_result"
    }
   ],
   "source": [
    "graph.invoke({\"graph_state\" : \"Yay!\"})"
   ]
  },
  {
   "cell_type": "code",
   "execution_count": 34,
   "id": "8fb3939b",
   "metadata": {},
   "outputs": [
    {
     "name": "stdout",
     "output_type": "stream",
     "text": [
      "---Node 1---\n",
      "---Thought Node---\n"
     ]
    },
    {
     "data": {
      "text/plain": [
       "{'graph_state': \"Your message was: I wonder if I'm stupid... Thats an interesting thought.\"}"
      ]
     },
     "execution_count": 34,
     "metadata": {},
     "output_type": "execute_result"
    }
   ],
   "source": [
    "graph.invoke({\"graph_state\" : \"I wonder if I'm stupid...\"})"
   ]
  },
  {
   "cell_type": "code",
   "execution_count": 35,
   "id": "18edc7bd",
   "metadata": {},
   "outputs": [
    {
     "name": "stdout",
     "output_type": "stream",
     "text": [
      "---Node 1---\n",
      "---Question Node---\n"
     ]
    },
    {
     "data": {
      "text/plain": [
       "{'graph_state': 'Your message was: How could this happen? Good question.'}"
      ]
     },
     "execution_count": 35,
     "metadata": {},
     "output_type": "execute_result"
    }
   ],
   "source": [
    "graph.invoke({\"graph_state\" : \"How could this happen?\"})"
   ]
  }
 ],
 "metadata": {
  "kernelspec": {
   "display_name": ".venv",
   "language": "python",
   "name": "python3"
  },
  "language_info": {
   "codemirror_mode": {
    "name": "ipython",
    "version": 3
   },
   "file_extension": ".py",
   "mimetype": "text/x-python",
   "name": "python",
   "nbconvert_exporter": "python",
   "pygments_lexer": "ipython3",
   "version": "3.13.7"
  }
 },
 "nbformat": 4,
 "nbformat_minor": 5
}
